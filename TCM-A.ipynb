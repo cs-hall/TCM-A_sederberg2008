{
 "cells": [
  {
   "cell_type": "markdown",
   "id": "73e816a5-9f24-400b-9b08-bab07b59fa9a",
   "metadata": {},
   "source": [
    "# Importing"
   ]
  },
  {
   "cell_type": "code",
   "execution_count": 1,
   "id": "dd9c7c37-435f-4407-a2cd-0a624615c959",
   "metadata": {},
   "outputs": [],
   "source": [
    "import numpy as np"
   ]
  },
  {
   "cell_type": "markdown",
   "id": "42b34b35-eeb9-46ce-ac82-09ec07f998a2",
   "metadata": {},
   "source": [
    "# Set up of equations"
   ]
  },
  {
   "cell_type": "markdown",
   "id": "f2df5326-66e0-4c70-b6cf-39c47f36721d",
   "metadata": {
    "tags": []
   },
   "source": [
    "## equation 1\n",
    "\n",
    "* p = scalar to make sure that ti is always unit length\n",
    "* b = determines the speed of drift (how much does a new input change the overall context)\n",
    "* pre_ti = previous context\n",
    "* ti_IN = context of the current item"
   ]
  },
  {
   "cell_type": "code",
   "execution_count": 2,
   "id": "dd5068d2-939f-45bd-8c5a-916642b4d4e9",
   "metadata": {},
   "outputs": [],
   "source": [
    "# Equation 1\n",
    "def calc_ti(p, b, pre_ti, ti_IN):\n",
    "    ti = (p * pre_ti) + (b * ti_IN)\n",
    "    return ti"
   ]
  },
  {
   "cell_type": "markdown",
   "id": "9d13e54e-81ca-4ccc-bbfe-4204fca2ee77",
   "metadata": {
    "tags": []
   },
   "source": [
    "## equation 2\n",
    "\n",
    "* M_FT = item to context matrix (represents knowledge)\n",
    "* fi = item vector"
   ]
  },
  {
   "cell_type": "code",
   "execution_count": 3,
   "id": "027fac00-87dd-48b3-a138-20fc19842151",
   "metadata": {},
   "outputs": [],
   "source": [
    "# Equation 2\n",
    "def calc_t_in_i(M_FT, fi):\n",
    "    non_normal_t_in_i = np.dot(M_FT, fi) # add current item to previous context\n",
    "    t_in_i_norm = np.linalg.norm(non_normal_t_in_i) # get the norm of the vector\n",
    "    t_in_i = non_normal_t_in_i / t_in_i_norm # normalize the vector\n",
    "    return t_in_i"
   ]
  },
  {
   "cell_type": "markdown",
   "id": "f07763f7-1f58-4033-939e-14acd0cd5588",
   "metadata": {
    "tags": []
   },
   "source": [
    "## equation 3\n",
    "\n",
    "* y = weighting of learned knowledge vs previous knowledge\n",
    "* M_FT_pre = knowledge of the item/context known before experiment\n",
    "* M_FT_exp = knowledge of the item/context connection learned during experiment"
   ]
  },
  {
   "cell_type": "code",
   "execution_count": 4,
   "id": "7ee371fb-49b9-472c-aacd-d7823d70f990",
   "metadata": {},
   "outputs": [],
   "source": [
    "# Equation 3\n",
    "def calc_M_FT(y, M_FT_pre, M_FT_exp):\n",
    "    M_FT = (1 - y) * M_FT_pre + y * M_FT_exp\n",
    "    return M_FT"
   ]
  },
  {
   "cell_type": "markdown",
   "id": "70ce6ae5-dbd8-436b-a87f-ac5abbe8a435",
   "metadata": {
    "tags": []
   },
   "source": [
    "## equation 4\n",
    "\n",
    "* M_FT_exp = knowledge of the item/context connection learned during experiment\n",
    "* pre_ti = previous context\n",
    "* fi = item vector"
   ]
  },
  {
   "cell_type": "code",
   "execution_count": 5,
   "id": "9ce85362-c0aa-4380-bf87-909a0d5c0aa7",
   "metadata": {},
   "outputs": [],
   "source": [
    "# Equation 4 + some guess\n",
    "def calc_M_FT_exp(M_FT_exp, pre_ti, fi):\n",
    "    delt_M_FT_exp = np.dot(pre_ti, fi.transpose()) # Equation 4\n",
    "    M_FT_exp = M_FT_exp + delt_M_FT_exp # educated guess\n",
    "    return M_FT_exp\n",
    "    "
   ]
  },
  {
   "cell_type": "markdown",
   "id": "16bf67f4-307b-40a0-82a9-afa1e35a35d5",
   "metadata": {},
   "source": [
    "# Initiate starting state"
   ]
  },
  {
   "cell_type": "markdown",
   "id": "25e9aaa4-43e7-4a72-8bab-54e0a82baedf",
   "metadata": {},
   "source": [
    "## Sizes of items\n",
    "\n",
    "*the following feels all wrong*\n",
    "\n",
    "t will be a vector with shape m x p. it will show how much each context was activated for each feature of f.\n",
    "\n",
    "f will be an item vector with shape n x p. p is the number of different item context relationships. If p is 1 (which it will be in our case) it is a single item. if p>1 then it could be thought of as multiple items and the contexts they each bring up. p is also the number of features of each item ?\n",
    "\n",
    "M_FT will be a matrix with shape m x n (rows[m] represent reatures of contexts; columns[n] represent features of items). Such that reading a row tells you what items a single context is realted to, reading a column tells you what contexts a single item activates"
   ]
  },
  {
   "cell_type": "markdown",
   "id": "7476d9b2-ec19-4988-8131-a7f1a630c6aa",
   "metadata": {},
   "source": [
    "## Starting numbers"
   ]
  },
  {
   "cell_type": "code",
   "execution_count": 6,
   "id": "6e008f44-0367-4260-a621-e23daaa06066",
   "metadata": {},
   "outputs": [],
   "source": [
    "p = .5  # I have no idea how to manipulate p such that length of ti = 1\n",
    "        # After doing some math I think I may need assitance with this... \n",
    "\n",
    "b = .8  # This is just set to be whatever you want\n",
    "\n",
    "pre_ti = np.array([0,0,0,0,0])\n",
    "\n",
    "y = .5  # This is just set to be whatever \n",
    "\n",
    "M_FT_pre = np.identity(5) # this needs to match the size of something?\n",
    "M_FT_exp = np.zeros((5,5)) # this needs to match the shape of MFTPre\n"
   ]
  },
  {
   "cell_type": "markdown",
   "id": "6fe3b2ac-4dfc-425c-8b8a-342b0cd24d60",
   "metadata": {},
   "source": [
    "# Calculate by hand\n",
    "\n",
    "I'll go step by step to calculate each iteration as shown in this picture\n",
    "![TCM-A_byHand](tcm-a_byHand.jpg)"
   ]
  },
  {
   "cell_type": "markdown",
   "id": "dee8bb60-3f58-4f16-be15-69f12b27d038",
   "metadata": {
    "tags": []
   },
   "source": [
    "## i = 1"
   ]
  },
  {
   "cell_type": "code",
   "execution_count": 7,
   "id": "9089b5c9-4050-4888-bbc1-e9a4103d2d34",
   "metadata": {},
   "outputs": [
    {
     "name": "stdout",
     "output_type": "stream",
     "text": [
      "[1 0 0 0 0]\n"
     ]
    }
   ],
   "source": [
    "# 1)\n",
    "f1 = np.array([1,0,0,0,0])\n",
    "print(f1)"
   ]
  },
  {
   "cell_type": "code",
   "execution_count": 8,
   "id": "9b42ec35-abe7-4bc5-80a6-cc49b3f8939c",
   "metadata": {},
   "outputs": [
    {
     "name": "stdout",
     "output_type": "stream",
     "text": [
      "[1. 0. 0. 0. 0.]\n"
     ]
    }
   ],
   "source": [
    "# 2\n",
    "M_FT = calc_M_FT(y, M_FT_pre, M_FT_exp)\n",
    "t1_IN = calc_t_in_i(M_FT, f1)\n",
    "print(t1_IN)"
   ]
  },
  {
   "cell_type": "code",
   "execution_count": 9,
   "id": "1d42a404-6c55-4f89-810b-6d2497bd8db8",
   "metadata": {},
   "outputs": [
    {
     "name": "stdout",
     "output_type": "stream",
     "text": [
      "[[0. 0. 0. 0. 0.]\n",
      " [0. 0. 0. 0. 0.]\n",
      " [0. 0. 0. 0. 0.]\n",
      " [0. 0. 0. 0. 0.]\n",
      " [0. 0. 0. 0. 0.]]\n"
     ]
    }
   ],
   "source": [
    "# 3\n",
    "M_FT_exp = calc_M_FT_exp(M_FT_exp, pre_ti, f1)\n",
    "print(M_FT_exp)"
   ]
  },
  {
   "cell_type": "code",
   "execution_count": 10,
   "id": "21aba79c-4aad-4971-b295-2ff1762422e6",
   "metadata": {},
   "outputs": [
    {
     "name": "stdout",
     "output_type": "stream",
     "text": [
      "[0.8 0.  0.  0.  0. ]\n"
     ]
    }
   ],
   "source": [
    "# 4\n",
    "t1 = calc_ti(p, b, pre_ti, t1_IN)\n",
    "print(t1)"
   ]
  },
  {
   "cell_type": "markdown",
   "id": "27010563-7198-4e88-9ff1-0f0a9a9ac414",
   "metadata": {
    "tags": []
   },
   "source": [
    "## i = 2"
   ]
  },
  {
   "cell_type": "code",
   "execution_count": 11,
   "id": "020a20fa-24d3-4191-a5ee-48a10b4add08",
   "metadata": {},
   "outputs": [],
   "source": [
    "pre_ti = t1"
   ]
  },
  {
   "cell_type": "code",
   "execution_count": 12,
   "id": "efb9158e-221f-4abc-bce9-ad38700f5815",
   "metadata": {},
   "outputs": [
    {
     "name": "stdout",
     "output_type": "stream",
     "text": [
      "[0 1 0 0 0]\n"
     ]
    }
   ],
   "source": [
    "# 1)\n",
    "f2 = np.array([0,1,0,0,0])\n",
    "print(f2)"
   ]
  },
  {
   "cell_type": "code",
   "execution_count": 13,
   "id": "76617741-3ccc-4012-a8d0-30d3a554761e",
   "metadata": {},
   "outputs": [
    {
     "name": "stdout",
     "output_type": "stream",
     "text": [
      "[0. 1. 0. 0. 0.]\n"
     ]
    }
   ],
   "source": [
    "# 2\n",
    "M_FT = calc_M_FT(y, M_FT_pre, M_FT_exp)\n",
    "t2_IN = calc_t_in_i(M_FT, f2)\n",
    "print(t2_IN)"
   ]
  },
  {
   "cell_type": "code",
   "execution_count": 14,
   "id": "d53bbbc8-3cfb-4b2b-bf48-e98d8a3ef804",
   "metadata": {},
   "outputs": [
    {
     "name": "stdout",
     "output_type": "stream",
     "text": [
      "[[0. 0. 0. 0. 0.]\n",
      " [0. 0. 0. 0. 0.]\n",
      " [0. 0. 0. 0. 0.]\n",
      " [0. 0. 0. 0. 0.]\n",
      " [0. 0. 0. 0. 0.]]\n"
     ]
    }
   ],
   "source": [
    "# 3\n",
    "M_FT_exp = calc_M_FT_exp(M_FT_exp, pre_ti, f2)\n",
    "print(M_FT_exp)"
   ]
  },
  {
   "cell_type": "code",
   "execution_count": 16,
   "id": "079e0f62-044e-4ae5-b4f0-d7e6dd0fbb6c",
   "metadata": {},
   "outputs": [
    {
     "name": "stdout",
     "output_type": "stream",
     "text": [
      "[0.4 0.8 0.  0.  0. ]\n"
     ]
    }
   ],
   "source": [
    "# 4\n",
    "t2 = calc_ti(p, b, pre_ti, t2_IN)\n",
    "print(t2)"
   ]
  }
 ],
 "metadata": {
  "kernelspec": {
   "display_name": "Python 3 (ipykernel)",
   "language": "python",
   "name": "python3"
  },
  "language_info": {
   "codemirror_mode": {
    "name": "ipython",
    "version": 3
   },
   "file_extension": ".py",
   "mimetype": "text/x-python",
   "name": "python",
   "nbconvert_exporter": "python",
   "pygments_lexer": "ipython3",
   "version": "3.9.12"
  }
 },
 "nbformat": 4,
 "nbformat_minor": 5
}
