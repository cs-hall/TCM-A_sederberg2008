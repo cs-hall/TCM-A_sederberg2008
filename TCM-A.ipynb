{
 "cells": [
  {
   "cell_type": "markdown",
   "id": "73e816a5-9f24-400b-9b08-bab07b59fa9a",
   "metadata": {},
   "source": [
    "# Importing"
   ]
  },
  {
   "cell_type": "code",
   "execution_count": 1,
   "id": "dd9c7c37-435f-4407-a2cd-0a624615c959",
   "metadata": {},
   "outputs": [],
   "source": [
    "import numpy as np"
   ]
  },
  {
   "cell_type": "markdown",
   "id": "42b34b35-eeb9-46ce-ac82-09ec07f998a2",
   "metadata": {},
   "source": [
    "# Set up of equations"
   ]
  },
  {
   "cell_type": "markdown",
   "id": "f2df5326-66e0-4c70-b6cf-39c47f36721d",
   "metadata": {
    "tags": []
   },
   "source": [
    "## equation 1\n",
    "\n",
    "* p = scalar to make sure that ti is always unit length\n",
    "* b = determines the speed of drift (how much does a new input change the overall context)\n",
    "* pre_ti = previous context\n",
    "* ti_IN = context of the current item"
   ]
  },
  {
   "cell_type": "code",
   "execution_count": 2,
   "id": "dd5068d2-939f-45bd-8c5a-916642b4d4e9",
   "metadata": {},
   "outputs": [],
   "source": [
    "# Equation 1\n",
    "def calc_ti(p, b, pre_ti, ti_IN):\n",
    "    ti = (p * pre_ti) + (b * ti_IN)\n",
    "    return ti"
   ]
  },
  {
   "cell_type": "markdown",
   "id": "9d13e54e-81ca-4ccc-bbfe-4204fca2ee77",
   "metadata": {
    "tags": []
   },
   "source": [
    "## equation 2\n",
    "\n",
    "* M_FT = item to context matrix (represents knowledge)\n",
    "* fi = item vector"
   ]
  },
  {
   "cell_type": "code",
   "execution_count": 3,
   "id": "027fac00-87dd-48b3-a138-20fc19842151",
   "metadata": {},
   "outputs": [],
   "source": [
    "# Equation 2\n",
    "def calc_t_in_i(M_FT, fi):\n",
    "    non_normal_t_in_i = np.dot(M_FT, fi) # add current item to previous context\n",
    "    t_in_i_norm = np.linalg.norm(non_normal_t_in_i) # get the norm of the vector\n",
    "    t_in_i = non_normal_t_in_i / t_in_i_norm # normalize the vector\n",
    "    return t_in_i"
   ]
  },
  {
   "cell_type": "markdown",
   "id": "f07763f7-1f58-4033-939e-14acd0cd5588",
   "metadata": {
    "tags": []
   },
   "source": [
    "## equation 3\n",
    "\n",
    "* y = weighting of learned knowledge vs previous knowledge\n",
    "* M_FT_pre = knowledge of the item/context known before experiment\n",
    "* M_FT_exp = knowledge of the item/context connection learned during experiment"
   ]
  },
  {
   "cell_type": "code",
   "execution_count": 4,
   "id": "7ee371fb-49b9-472c-aacd-d7823d70f990",
   "metadata": {},
   "outputs": [],
   "source": [
    "# Equation 3\n",
    "def calc_M_FT(y, M_FT_pre, M_FT_exp):\n",
    "    M_FT = (1 - y) * M_FT_pre + y * M_FT_exp\n",
    "    return M_FT"
   ]
  },
  {
   "cell_type": "markdown",
   "id": "70ce6ae5-dbd8-436b-a87f-ac5abbe8a435",
   "metadata": {
    "tags": []
   },
   "source": [
    "## equation 4\n",
    "\n",
    "* M_FT_exp = knowledge of the item/context connection learned during experiment\n",
    "* pre_ti = previous context\n",
    "* fi = item vector"
   ]
  },
  {
   "cell_type": "code",
   "execution_count": 5,
   "id": "9ce85362-c0aa-4380-bf87-909a0d5c0aa7",
   "metadata": {},
   "outputs": [],
   "source": [
    "# Equation 4 + some guess\n",
    "def calc_M_FT_exp(M_FT_exp, pre_ti, fi):\n",
    "    #print(\"pre_ti\", pre_ti)\n",
    "    #print(\"fi\", fi)\n",
    "    # delt_M_FT_exp = np.dot(pre_ti, fi) # Equation 4\n",
    "    delt_M_FT_exp = np.outer(pre_ti,fi) # Equation 4 ? Still unclear on the how np does dot vs outer with vectors\n",
    "    #print(\"delt \\n\", delt_M_FT_exp)\n",
    "    #print()\n",
    "    M_FT_exp = M_FT_exp + delt_M_FT_exp # educated guess\n",
    "    return M_FT_exp\n",
    "    "
   ]
  },
  {
   "cell_type": "markdown",
   "id": "16bf67f4-307b-40a0-82a9-afa1e35a35d5",
   "metadata": {},
   "source": [
    "# Initiate starting state"
   ]
  },
  {
   "cell_type": "markdown",
   "id": "25e9aaa4-43e7-4a72-8bab-54e0a82baedf",
   "metadata": {},
   "source": [
    "## Sizes of items\n",
    "\n",
    "*the following feels all wrong*\n",
    "\n",
    "t will be a vector with shape m x p. it will show how much each context was activated for each feature of f.\n",
    "\n",
    "f will be an item vector with shape n x p. p is the number of different item context relationships. If p is 1 (which it will be in our case) it is a single item. if p>1 then it could be thought of as multiple items and the contexts they each bring up. p is also the number of features of each item ?\n",
    "\n",
    "M_FT will be a matrix with shape m x n (rows[m] represent reatures of contexts; columns[n] represent features of items). Such that reading a row tells you what items a single context is realted to, reading a column tells you what contexts a single item activates"
   ]
  },
  {
   "cell_type": "markdown",
   "id": "7476d9b2-ec19-4988-8131-a7f1a630c6aa",
   "metadata": {},
   "source": [
    "## Starting numbers"
   ]
  },
  {
   "cell_type": "code",
   "execution_count": 6,
   "id": "6e008f44-0367-4260-a621-e23daaa06066",
   "metadata": {},
   "outputs": [],
   "source": [
    "p = .5  # I have no idea how to manipulate p such that length of ti = 1\n",
    "        # After doing some math I think I may need assitance with this... \n",
    "\n",
    "b = .8  # This is just set to be whatever you want\n",
    "\n",
    "pre_ti = np.array([0,0,0,0,0])\n",
    "\n",
    "y = .5  # This is just set to be whatever \n",
    "\n",
    "M_FT_pre = np.identity(5) # this needs to match the size of something?\n",
    "M_FT_exp = np.zeros((5,5)) # this needs to match the shape of MFTPre\n"
   ]
  },
  {
   "cell_type": "markdown",
   "id": "6fe3b2ac-4dfc-425c-8b8a-342b0cd24d60",
   "metadata": {},
   "source": [
    "# Calculate by hand\n",
    "\n",
    "I'll go step by step to calculate each iteration as shown in this picture\n",
    "![TCM-A_byHand](tcm-a_byHand.jpg)"
   ]
  },
  {
   "cell_type": "markdown",
   "id": "dee8bb60-3f58-4f16-be15-69f12b27d038",
   "metadata": {
    "tags": []
   },
   "source": [
    "## i = 1"
   ]
  },
  {
   "cell_type": "code",
   "execution_count": 7,
   "id": "9089b5c9-4050-4888-bbc1-e9a4103d2d34",
   "metadata": {},
   "outputs": [
    {
     "name": "stdout",
     "output_type": "stream",
     "text": [
      "[1 0 0 0 0]\n"
     ]
    }
   ],
   "source": [
    "# 1)\n",
    "f1 = np.array([1,0,0,0,0])\n",
    "print(f1)"
   ]
  },
  {
   "cell_type": "code",
   "execution_count": 8,
   "id": "9b42ec35-abe7-4bc5-80a6-cc49b3f8939c",
   "metadata": {},
   "outputs": [
    {
     "name": "stdout",
     "output_type": "stream",
     "text": [
      "[1. 0. 0. 0. 0.]\n"
     ]
    }
   ],
   "source": [
    "# 2\n",
    "M_FT = calc_M_FT(y, M_FT_pre, M_FT_exp)\n",
    "t1_IN = calc_t_in_i(M_FT, f1)\n",
    "print(t1_IN)"
   ]
  },
  {
   "cell_type": "code",
   "execution_count": 9,
   "id": "1d42a404-6c55-4f89-810b-6d2497bd8db8",
   "metadata": {},
   "outputs": [
    {
     "name": "stdout",
     "output_type": "stream",
     "text": [
      "[[0. 0. 0. 0. 0.]\n",
      " [0. 0. 0. 0. 0.]\n",
      " [0. 0. 0. 0. 0.]\n",
      " [0. 0. 0. 0. 0.]\n",
      " [0. 0. 0. 0. 0.]]\n"
     ]
    }
   ],
   "source": [
    "# 3\n",
    "M_FT_exp = calc_M_FT_exp(M_FT_exp, pre_ti, f1)\n",
    "print(M_FT_exp)"
   ]
  },
  {
   "cell_type": "markdown",
   "id": "de4f2262-3b03-4bce-b6eb-71ff5e2b8ea9",
   "metadata": {},
   "source": [
    "This shows that after the presentation of the first item there is no association between items. (There aren't any items to associate)"
   ]
  },
  {
   "cell_type": "code",
   "execution_count": 10,
   "id": "21aba79c-4aad-4971-b295-2ff1762422e6",
   "metadata": {},
   "outputs": [
    {
     "name": "stdout",
     "output_type": "stream",
     "text": [
      "[0.8 0.  0.  0.  0. ]\n"
     ]
    }
   ],
   "source": [
    "# 4\n",
    "t1 = calc_ti(p, b, pre_ti, t1_IN)\n",
    "print(t1)"
   ]
  },
  {
   "cell_type": "markdown",
   "id": "27010563-7198-4e88-9ff1-0f0a9a9ac414",
   "metadata": {
    "tags": []
   },
   "source": [
    "## i = 2"
   ]
  },
  {
   "cell_type": "code",
   "execution_count": 11,
   "id": "020a20fa-24d3-4191-a5ee-48a10b4add08",
   "metadata": {},
   "outputs": [],
   "source": [
    "pre_ti = t1"
   ]
  },
  {
   "cell_type": "code",
   "execution_count": 12,
   "id": "efb9158e-221f-4abc-bce9-ad38700f5815",
   "metadata": {},
   "outputs": [
    {
     "name": "stdout",
     "output_type": "stream",
     "text": [
      "[0 1 0 0 0]\n"
     ]
    }
   ],
   "source": [
    "# 1)\n",
    "f2 = np.array([0,1,0,0,0])\n",
    "print(f2)"
   ]
  },
  {
   "cell_type": "code",
   "execution_count": 13,
   "id": "76617741-3ccc-4012-a8d0-30d3a554761e",
   "metadata": {},
   "outputs": [
    {
     "name": "stdout",
     "output_type": "stream",
     "text": [
      "[0. 1. 0. 0. 0.]\n"
     ]
    }
   ],
   "source": [
    "# 2\n",
    "M_FT = calc_M_FT(y, M_FT_pre, M_FT_exp)\n",
    "t2_IN = calc_t_in_i(M_FT, f2)\n",
    "print(t2_IN)"
   ]
  },
  {
   "cell_type": "code",
   "execution_count": 14,
   "id": "d53bbbc8-3cfb-4b2b-bf48-e98d8a3ef804",
   "metadata": {},
   "outputs": [
    {
     "name": "stdout",
     "output_type": "stream",
     "text": [
      "[[0.  0.8 0.  0.  0. ]\n",
      " [0.  0.  0.  0.  0. ]\n",
      " [0.  0.  0.  0.  0. ]\n",
      " [0.  0.  0.  0.  0. ]\n",
      " [0.  0.  0.  0.  0. ]]\n"
     ]
    }
   ],
   "source": [
    "# 3\n",
    "M_FT_exp = calc_M_FT_exp(M_FT_exp, pre_ti, f2)\n",
    "print(M_FT_exp)"
   ]
  },
  {
   "cell_type": "markdown",
   "id": "19abf3b0-bf8b-4061-b620-8b08314fe805",
   "metadata": {},
   "source": [
    "Here we see that the first item has been bound to the second item. So if presented with the first context, (first row), we will have some binding of the second item. "
   ]
  },
  {
   "cell_type": "code",
   "execution_count": 15,
   "id": "079e0f62-044e-4ae5-b4f0-d7e6dd0fbb6c",
   "metadata": {},
   "outputs": [
    {
     "name": "stdout",
     "output_type": "stream",
     "text": [
      "[0.4 0.8 0.  0.  0. ]\n"
     ]
    }
   ],
   "source": [
    "# 4\n",
    "t2 = calc_ti(p, b, pre_ti, t2_IN)\n",
    "print(t2)"
   ]
  },
  {
   "cell_type": "markdown",
   "id": "646d689e-ee89-4b7b-9be2-855f13af894a",
   "metadata": {
    "tags": []
   },
   "source": [
    "## i = 3"
   ]
  },
  {
   "cell_type": "code",
   "execution_count": 16,
   "id": "353b0cda-ccb6-47e7-bdfc-8643c6d92eff",
   "metadata": {},
   "outputs": [],
   "source": [
    "pre_ti = t2"
   ]
  },
  {
   "cell_type": "code",
   "execution_count": 17,
   "id": "647adce2-1d36-48b3-b5e0-338666ca8460",
   "metadata": {},
   "outputs": [
    {
     "name": "stdout",
     "output_type": "stream",
     "text": [
      "[0 0 1 0 0]\n"
     ]
    }
   ],
   "source": [
    "# 1)\n",
    "f3 = np.array([0,0,1,0,0])\n",
    "print(f3)"
   ]
  },
  {
   "cell_type": "code",
   "execution_count": 18,
   "id": "e3346b8a-7149-4903-8900-a03f0ceb3515",
   "metadata": {},
   "outputs": [
    {
     "name": "stdout",
     "output_type": "stream",
     "text": [
      "[0. 0. 1. 0. 0.]\n"
     ]
    }
   ],
   "source": [
    "# 2\n",
    "M_FT = calc_M_FT(y, M_FT_pre, M_FT_exp)\n",
    "t3_IN = calc_t_in_i(M_FT, f3)\n",
    "print(t3_IN)"
   ]
  },
  {
   "cell_type": "code",
   "execution_count": 19,
   "id": "7be5f99b-f933-48d2-a835-503c7edc2c7f",
   "metadata": {},
   "outputs": [
    {
     "name": "stdout",
     "output_type": "stream",
     "text": [
      "[[0.  0.8 0.4 0.  0. ]\n",
      " [0.  0.  0.8 0.  0. ]\n",
      " [0.  0.  0.  0.  0. ]\n",
      " [0.  0.  0.  0.  0. ]\n",
      " [0.  0.  0.  0.  0. ]]\n"
     ]
    }
   ],
   "source": [
    "# 3\n",
    "M_FT_exp = calc_M_FT_exp(M_FT_exp, pre_ti, f3)\n",
    "print(M_FT_exp)"
   ]
  },
  {
   "cell_type": "markdown",
   "id": "d41569a9-2639-4598-9a37-cfa7e4f59276",
   "metadata": {},
   "source": [
    "Now, the first context has been bound to the second item and weakly to the third item. The second context has only been bound to the third item.\n",
    "\n",
    "The columns are the state of the world when that item was presented. The rows are the learned feature associations. So context 1 is associated with features that came later, but not bound by the feature before. "
   ]
  },
  {
   "cell_type": "code",
   "execution_count": 20,
   "id": "b8ab45e6-4018-4aa0-a26c-3d759a705753",
   "metadata": {},
   "outputs": [
    {
     "name": "stdout",
     "output_type": "stream",
     "text": [
      "[0.2 0.4 0.8 0.  0. ]\n"
     ]
    }
   ],
   "source": [
    "# 4\n",
    "t3 = calc_ti(p, b, pre_ti, t3_IN)\n",
    "print(t3)"
   ]
  },
  {
   "cell_type": "markdown",
   "id": "90aaafaf-ac40-4ed9-8c63-42d39a2ff14d",
   "metadata": {},
   "source": [
    "# Loop through set of items"
   ]
  },
  {
   "cell_type": "raw",
   "id": "f86901f3-8acd-4a6c-a4de-306f5dda145e",
   "metadata": {},
   "source": [
    "Here I want to set up a list of items, then loop through all of them to create a set of contexts"
   ]
  },
  {
   "cell_type": "markdown",
   "id": "795a9d3e-b880-4da4-9a4d-4d121b2f85b0",
   "metadata": {},
   "source": [
    "## Items"
   ]
  },
  {
   "cell_type": "code",
   "execution_count": 21,
   "id": "cbc3b3a4-5565-4c6b-a18d-5d3fec62427f",
   "metadata": {},
   "outputs": [],
   "source": [
    "context_vector_shape = 5"
   ]
  },
  {
   "cell_type": "code",
   "execution_count": 22,
   "id": "e4c7ff1e-f602-4947-b1b8-c59ff1684747",
   "metadata": {},
   "outputs": [],
   "source": [
    "F_simple = np.eye(context_vector_shape, context_vector_shape)\n",
    "F_rand = np.random.rand(context_vector_shape,context_vector_shape)\n",
    "F = F_simple # np.vstack((F_simple, F_rand))\n",
    "#print(F)"
   ]
  },
  {
   "cell_type": "markdown",
   "id": "dbf3c2ad-0569-43ad-9d7b-28c3c22c7ac4",
   "metadata": {},
   "source": [
    "## initial parameters (copied from above)"
   ]
  },
  {
   "cell_type": "code",
   "execution_count": 23,
   "id": "25ef7b8f-ca3a-45da-a404-b3703b3ea24f",
   "metadata": {},
   "outputs": [],
   "source": [
    "p = .5  # I have no idea how to manipulate p such that length of ti = 1\n",
    "        # After doing some math I think I may need assitance with this... \n",
    "\n",
    "b = .9  # This is just set to be whatever you want\n",
    "\n",
    "ti = np.zeros((1,context_vector_shape))\n",
    "T = ti # T is the set of contexts\n",
    "\n",
    "y = .5  # This is just set to be whatever \n",
    "\n",
    "M_FT_pre = np.identity(context_vector_shape) # this needs to match the size of something?\n",
    "M_FT_exp = np.zeros((context_vector_shape,context_vector_shape)) # this needs to match the shape of MFTPre\n"
   ]
  },
  {
   "cell_type": "markdown",
   "id": "658dd058-bf2c-4b3e-aa5e-66039e13a565",
   "metadata": {},
   "source": [
    "## Iterate through the items"
   ]
  },
  {
   "cell_type": "code",
   "execution_count": 24,
   "id": "0e75ea21-cd53-49d8-8961-92a9c1ccfcc9",
   "metadata": {},
   "outputs": [],
   "source": [
    "for i in range(len(F)):\n",
    "    # the numbers match the steps from the blackboard\n",
    "    #print(\"Iteration =\", i)\n",
    "    # 1\n",
    "    fi = F[i]\n",
    "    #print(\"f=\", fi)\n",
    "    # Set previous context\n",
    "    pre_ti = ti\n",
    "    \n",
    "    # start loop\n",
    "    # 2\n",
    "    M_FT = calc_M_FT(y, M_FT_pre, M_FT_exp)\n",
    "    ti_IN = calc_t_in_i(M_FT, fi)\n",
    "    \n",
    "    # 3\n",
    "    M_FT_exp = calc_M_FT_exp(M_FT_exp, pre_ti, fi)\n",
    "    \n",
    "    # 4\n",
    "    ti = calc_ti(p, b, pre_ti, ti_IN)\n",
    "    #print(\"The new context is: \", ti)\n",
    "    \n",
    "    T = np.vstack((T,ti))\n",
    "    "
   ]
  },
  {
   "cell_type": "code",
   "execution_count": 25,
   "id": "1775a5e2-e65c-4fc2-81c9-dbeb09f8084f",
   "metadata": {},
   "outputs": [
    {
     "name": "stdout",
     "output_type": "stream",
     "text": [
      "History of the context.\n",
      "\t Top row is earliest\n",
      "[[0.      0.      0.      0.      0.     ]\n",
      " [0.9     0.      0.      0.      0.     ]\n",
      " [0.45    0.9     0.      0.      0.     ]\n",
      " [0.225   0.45    0.9     0.      0.     ]\n",
      " [0.1125  0.225   0.45    0.9     0.     ]\n",
      " [0.05625 0.1125  0.225   0.45    0.9    ]]\n",
      "\n",
      "Current Item to context association.\n",
      "\t Column = context of that item presented\n",
      "\t Row = Features \"bound\" to that context\n",
      "\n",
      "[[0.     0.9    0.45   0.225  0.1125]\n",
      " [0.     0.     0.9    0.45   0.225 ]\n",
      " [0.     0.     0.     0.9    0.45  ]\n",
      " [0.     0.     0.     0.     0.9   ]\n",
      " [0.     0.     0.     0.     0.    ]]\n"
     ]
    }
   ],
   "source": [
    "print(\"History of the context.\")\n",
    "print(\"\\t Top row is earliest\")    \n",
    "print(T)\n",
    "\n",
    "print()\n",
    "print(\"Current Item to context association.\")\n",
    "print(\"\\t Column = context of that item presented\")\n",
    "print(\"\\t Row = Features \\\"bound\\\" to that context\")\n",
    "print()\n",
    "print(M_FT_exp)"
   ]
  },
  {
   "cell_type": "code",
   "execution_count": null,
   "id": "2ab610f0-05d2-46f2-be5f-e15517b9cf56",
   "metadata": {},
   "outputs": [],
   "source": []
  }
 ],
 "metadata": {
  "kernelspec": {
   "display_name": "Python 3 (ipykernel)",
   "language": "python",
   "name": "python3"
  },
  "language_info": {
   "codemirror_mode": {
    "name": "ipython",
    "version": 3
   },
   "file_extension": ".py",
   "mimetype": "text/x-python",
   "name": "python",
   "nbconvert_exporter": "python",
   "pygments_lexer": "ipython3",
   "version": "3.9.12"
  }
 },
 "nbformat": 4,
 "nbformat_minor": 5
}
